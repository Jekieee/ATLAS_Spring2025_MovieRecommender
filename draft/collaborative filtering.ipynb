{
 "cells": [
  {
   "metadata": {},
   "cell_type": "markdown",
   "source": "# Load Dataset",
   "id": "a0a62fe8fba2c458"
  },
  {
   "cell_type": "code",
   "id": "initial_id",
   "metadata": {
    "collapsed": true,
    "ExecuteTime": {
     "end_time": "2025-05-04T22:11:03.339252Z",
     "start_time": "2025-05-04T22:10:59.820067Z"
    }
   },
   "source": [
    "import pandas as pd\n",
    "import numpy as np"
   ],
   "outputs": [],
   "execution_count": 1
  },
  {
   "metadata": {
    "ExecuteTime": {
     "end_time": "2025-05-04T22:37:23.804227Z",
     "start_time": "2025-05-04T22:37:17.063572Z"
    }
   },
   "cell_type": "code",
   "source": [
    "ratings = pd.read_csv('ratings.csv')\n",
    "ratings.head(5)"
   ],
   "id": "daa63526d9bd75ff",
   "outputs": [
    {
     "data": {
      "text/plain": [
       "   userId  movieId  rating   timestamp\n",
       "0       1      110     1.0  1425941529\n",
       "1       1      147     4.5  1425942435\n",
       "2       1      858     5.0  1425941523\n",
       "3       1     1221     5.0  1425941546\n",
       "4       1     1246     5.0  1425941556"
      ],
      "text/html": [
       "<div>\n",
       "<style scoped>\n",
       "    .dataframe tbody tr th:only-of-type {\n",
       "        vertical-align: middle;\n",
       "    }\n",
       "\n",
       "    .dataframe tbody tr th {\n",
       "        vertical-align: top;\n",
       "    }\n",
       "\n",
       "    .dataframe thead th {\n",
       "        text-align: right;\n",
       "    }\n",
       "</style>\n",
       "<table border=\"1\" class=\"dataframe\">\n",
       "  <thead>\n",
       "    <tr style=\"text-align: right;\">\n",
       "      <th></th>\n",
       "      <th>userId</th>\n",
       "      <th>movieId</th>\n",
       "      <th>rating</th>\n",
       "      <th>timestamp</th>\n",
       "    </tr>\n",
       "  </thead>\n",
       "  <tbody>\n",
       "    <tr>\n",
       "      <th>0</th>\n",
       "      <td>1</td>\n",
       "      <td>110</td>\n",
       "      <td>1.0</td>\n",
       "      <td>1425941529</td>\n",
       "    </tr>\n",
       "    <tr>\n",
       "      <th>1</th>\n",
       "      <td>1</td>\n",
       "      <td>147</td>\n",
       "      <td>4.5</td>\n",
       "      <td>1425942435</td>\n",
       "    </tr>\n",
       "    <tr>\n",
       "      <th>2</th>\n",
       "      <td>1</td>\n",
       "      <td>858</td>\n",
       "      <td>5.0</td>\n",
       "      <td>1425941523</td>\n",
       "    </tr>\n",
       "    <tr>\n",
       "      <th>3</th>\n",
       "      <td>1</td>\n",
       "      <td>1221</td>\n",
       "      <td>5.0</td>\n",
       "      <td>1425941546</td>\n",
       "    </tr>\n",
       "    <tr>\n",
       "      <th>4</th>\n",
       "      <td>1</td>\n",
       "      <td>1246</td>\n",
       "      <td>5.0</td>\n",
       "      <td>1425941556</td>\n",
       "    </tr>\n",
       "  </tbody>\n",
       "</table>\n",
       "</div>"
      ]
     },
     "execution_count": 87,
     "metadata": {},
     "output_type": "execute_result"
    }
   ],
   "execution_count": 87
  },
  {
   "metadata": {
    "ExecuteTime": {
     "end_time": "2025-05-04T22:11:11.270972Z",
     "start_time": "2025-05-04T22:11:10.778231Z"
    }
   },
   "cell_type": "code",
   "source": [
    "movies = pd.read_csv('movies_metadata.csv')\n",
    "movies.head(3)"
   ],
   "id": "b074525a6783b10c",
   "outputs": [
    {
     "name": "stderr",
     "output_type": "stream",
     "text": [
      "C:\\Users\\小缇\\AppData\\Local\\Temp\\ipykernel_10860\\1603505487.py:1: DtypeWarning: Columns (10) have mixed types. Specify dtype option on import or set low_memory=False.\n",
      "  movies = pd.read_csv('movies_metadata.csv')\n"
     ]
    },
    {
     "data": {
      "text/plain": [
       "   adult                              belongs_to_collection    budget  \\\n",
       "0  False  {'id': 10194, 'name': 'Toy Story Collection', ...  30000000   \n",
       "1  False                                                NaN  65000000   \n",
       "2  False  {'id': 119050, 'name': 'Grumpy Old Men Collect...         0   \n",
       "\n",
       "                                              genres  \\\n",
       "0  [{'id': 16, 'name': 'Animation'}, {'id': 35, '...   \n",
       "1  [{'id': 12, 'name': 'Adventure'}, {'id': 14, '...   \n",
       "2  [{'id': 10749, 'name': 'Romance'}, {'id': 35, ...   \n",
       "\n",
       "                               homepage     id    imdb_id original_language  \\\n",
       "0  http://toystory.disney.com/toy-story    862  tt0114709                en   \n",
       "1                                   NaN   8844  tt0113497                en   \n",
       "2                                   NaN  15602  tt0113228                en   \n",
       "\n",
       "     original_title                                           overview  ...  \\\n",
       "0         Toy Story  Led by Woody, Andy's toys live happily in his ...  ...   \n",
       "1           Jumanji  When siblings Judy and Peter discover an encha...  ...   \n",
       "2  Grumpier Old Men  A family wedding reignites the ancient feud be...  ...   \n",
       "\n",
       "  release_date      revenue runtime  \\\n",
       "0   1995-10-30  373554033.0    81.0   \n",
       "1   1995-12-15  262797249.0   104.0   \n",
       "2   1995-12-22          0.0   101.0   \n",
       "\n",
       "                                    spoken_languages    status  \\\n",
       "0           [{'iso_639_1': 'en', 'name': 'English'}]  Released   \n",
       "1  [{'iso_639_1': 'en', 'name': 'English'}, {'iso...  Released   \n",
       "2           [{'iso_639_1': 'en', 'name': 'English'}]  Released   \n",
       "\n",
       "                                             tagline             title  video  \\\n",
       "0                                                NaN         Toy Story  False   \n",
       "1          Roll the dice and unleash the excitement!           Jumanji  False   \n",
       "2  Still Yelling. Still Fighting. Still Ready for...  Grumpier Old Men  False   \n",
       "\n",
       "  vote_average vote_count  \n",
       "0          7.7     5415.0  \n",
       "1          6.9     2413.0  \n",
       "2          6.5       92.0  \n",
       "\n",
       "[3 rows x 24 columns]"
      ],
      "text/html": [
       "<div>\n",
       "<style scoped>\n",
       "    .dataframe tbody tr th:only-of-type {\n",
       "        vertical-align: middle;\n",
       "    }\n",
       "\n",
       "    .dataframe tbody tr th {\n",
       "        vertical-align: top;\n",
       "    }\n",
       "\n",
       "    .dataframe thead th {\n",
       "        text-align: right;\n",
       "    }\n",
       "</style>\n",
       "<table border=\"1\" class=\"dataframe\">\n",
       "  <thead>\n",
       "    <tr style=\"text-align: right;\">\n",
       "      <th></th>\n",
       "      <th>adult</th>\n",
       "      <th>belongs_to_collection</th>\n",
       "      <th>budget</th>\n",
       "      <th>genres</th>\n",
       "      <th>homepage</th>\n",
       "      <th>id</th>\n",
       "      <th>imdb_id</th>\n",
       "      <th>original_language</th>\n",
       "      <th>original_title</th>\n",
       "      <th>overview</th>\n",
       "      <th>...</th>\n",
       "      <th>release_date</th>\n",
       "      <th>revenue</th>\n",
       "      <th>runtime</th>\n",
       "      <th>spoken_languages</th>\n",
       "      <th>status</th>\n",
       "      <th>tagline</th>\n",
       "      <th>title</th>\n",
       "      <th>video</th>\n",
       "      <th>vote_average</th>\n",
       "      <th>vote_count</th>\n",
       "    </tr>\n",
       "  </thead>\n",
       "  <tbody>\n",
       "    <tr>\n",
       "      <th>0</th>\n",
       "      <td>False</td>\n",
       "      <td>{'id': 10194, 'name': 'Toy Story Collection', ...</td>\n",
       "      <td>30000000</td>\n",
       "      <td>[{'id': 16, 'name': 'Animation'}, {'id': 35, '...</td>\n",
       "      <td>http://toystory.disney.com/toy-story</td>\n",
       "      <td>862</td>\n",
       "      <td>tt0114709</td>\n",
       "      <td>en</td>\n",
       "      <td>Toy Story</td>\n",
       "      <td>Led by Woody, Andy's toys live happily in his ...</td>\n",
       "      <td>...</td>\n",
       "      <td>1995-10-30</td>\n",
       "      <td>373554033.0</td>\n",
       "      <td>81.0</td>\n",
       "      <td>[{'iso_639_1': 'en', 'name': 'English'}]</td>\n",
       "      <td>Released</td>\n",
       "      <td>NaN</td>\n",
       "      <td>Toy Story</td>\n",
       "      <td>False</td>\n",
       "      <td>7.7</td>\n",
       "      <td>5415.0</td>\n",
       "    </tr>\n",
       "    <tr>\n",
       "      <th>1</th>\n",
       "      <td>False</td>\n",
       "      <td>NaN</td>\n",
       "      <td>65000000</td>\n",
       "      <td>[{'id': 12, 'name': 'Adventure'}, {'id': 14, '...</td>\n",
       "      <td>NaN</td>\n",
       "      <td>8844</td>\n",
       "      <td>tt0113497</td>\n",
       "      <td>en</td>\n",
       "      <td>Jumanji</td>\n",
       "      <td>When siblings Judy and Peter discover an encha...</td>\n",
       "      <td>...</td>\n",
       "      <td>1995-12-15</td>\n",
       "      <td>262797249.0</td>\n",
       "      <td>104.0</td>\n",
       "      <td>[{'iso_639_1': 'en', 'name': 'English'}, {'iso...</td>\n",
       "      <td>Released</td>\n",
       "      <td>Roll the dice and unleash the excitement!</td>\n",
       "      <td>Jumanji</td>\n",
       "      <td>False</td>\n",
       "      <td>6.9</td>\n",
       "      <td>2413.0</td>\n",
       "    </tr>\n",
       "    <tr>\n",
       "      <th>2</th>\n",
       "      <td>False</td>\n",
       "      <td>{'id': 119050, 'name': 'Grumpy Old Men Collect...</td>\n",
       "      <td>0</td>\n",
       "      <td>[{'id': 10749, 'name': 'Romance'}, {'id': 35, ...</td>\n",
       "      <td>NaN</td>\n",
       "      <td>15602</td>\n",
       "      <td>tt0113228</td>\n",
       "      <td>en</td>\n",
       "      <td>Grumpier Old Men</td>\n",
       "      <td>A family wedding reignites the ancient feud be...</td>\n",
       "      <td>...</td>\n",
       "      <td>1995-12-22</td>\n",
       "      <td>0.0</td>\n",
       "      <td>101.0</td>\n",
       "      <td>[{'iso_639_1': 'en', 'name': 'English'}]</td>\n",
       "      <td>Released</td>\n",
       "      <td>Still Yelling. Still Fighting. Still Ready for...</td>\n",
       "      <td>Grumpier Old Men</td>\n",
       "      <td>False</td>\n",
       "      <td>6.5</td>\n",
       "      <td>92.0</td>\n",
       "    </tr>\n",
       "  </tbody>\n",
       "</table>\n",
       "<p>3 rows × 24 columns</p>\n",
       "</div>"
      ]
     },
     "execution_count": 3,
     "metadata": {},
     "output_type": "execute_result"
    }
   ],
   "execution_count": 3
  },
  {
   "metadata": {
    "ExecuteTime": {
     "end_time": "2025-05-04T22:11:11.347970Z",
     "start_time": "2025-05-04T22:11:11.326157Z"
    }
   },
   "cell_type": "code",
   "source": [
    "link = pd.read_csv('links.csv')\n",
    "link.head(3)"
   ],
   "id": "86c2e5af2e2c077",
   "outputs": [
    {
     "data": {
      "text/plain": [
       "   movieId  imdbId   tmdbId\n",
       "0        1  114709    862.0\n",
       "1        2  113497   8844.0\n",
       "2        3  113228  15602.0"
      ],
      "text/html": [
       "<div>\n",
       "<style scoped>\n",
       "    .dataframe tbody tr th:only-of-type {\n",
       "        vertical-align: middle;\n",
       "    }\n",
       "\n",
       "    .dataframe tbody tr th {\n",
       "        vertical-align: top;\n",
       "    }\n",
       "\n",
       "    .dataframe thead th {\n",
       "        text-align: right;\n",
       "    }\n",
       "</style>\n",
       "<table border=\"1\" class=\"dataframe\">\n",
       "  <thead>\n",
       "    <tr style=\"text-align: right;\">\n",
       "      <th></th>\n",
       "      <th>movieId</th>\n",
       "      <th>imdbId</th>\n",
       "      <th>tmdbId</th>\n",
       "    </tr>\n",
       "  </thead>\n",
       "  <tbody>\n",
       "    <tr>\n",
       "      <th>0</th>\n",
       "      <td>1</td>\n",
       "      <td>114709</td>\n",
       "      <td>862.0</td>\n",
       "    </tr>\n",
       "    <tr>\n",
       "      <th>1</th>\n",
       "      <td>2</td>\n",
       "      <td>113497</td>\n",
       "      <td>8844.0</td>\n",
       "    </tr>\n",
       "    <tr>\n",
       "      <th>2</th>\n",
       "      <td>3</td>\n",
       "      <td>113228</td>\n",
       "      <td>15602.0</td>\n",
       "    </tr>\n",
       "  </tbody>\n",
       "</table>\n",
       "</div>"
      ]
     },
     "execution_count": 4,
     "metadata": {},
     "output_type": "execute_result"
    }
   ],
   "execution_count": 4
  },
  {
   "metadata": {
    "ExecuteTime": {
     "end_time": "2025-05-04T22:11:12.949414Z",
     "start_time": "2025-05-04T22:11:11.469813Z"
    }
   },
   "cell_type": "code",
   "source": [
    "link_updated = link.copy()\n",
    "new_imdbId = []\n",
    "for i in range(len(link_updated)):\n",
    "    imdb = link_updated.loc[i]['imdbId']\n",
    "    l = 7 - len(str(int(imdb)))\n",
    "    temp = 'tt'\n",
    "    for n in range(l):\n",
    "        temp = temp + '0'\n",
    "    temp = temp + str(int(imdb))\n",
    "    new_imdbId.append(temp)\n",
    "\n",
    "link_updated['new_imdbId'] = new_imdbId"
   ],
   "id": "5873e6b2459a267",
   "outputs": [],
   "execution_count": 5
  },
  {
   "metadata": {
    "ExecuteTime": {
     "end_time": "2025-05-04T07:00:14.145021Z",
     "start_time": "2025-05-04T07:00:14.136594Z"
    }
   },
   "cell_type": "code",
   "source": "link_updated.head(10)",
   "id": "876e04a4600f2ba2",
   "outputs": [
    {
     "data": {
      "text/plain": [
       "   movieId  imdbId   tmdbId new_imdbId\n",
       "0        1  114709    862.0  tt0114709\n",
       "1        2  113497   8844.0  tt0113497\n",
       "2        3  113228  15602.0  tt0113228\n",
       "3        4  114885  31357.0  tt0114885\n",
       "4        5  113041  11862.0  tt0113041\n",
       "5        6  113277    949.0  tt0113277\n",
       "6        7  114319  11860.0  tt0114319\n",
       "7        8  112302  45325.0  tt0112302\n",
       "8        9  114576   9091.0  tt0114576\n",
       "9       10  113189    710.0  tt0113189"
      ],
      "text/html": [
       "<div>\n",
       "<style scoped>\n",
       "    .dataframe tbody tr th:only-of-type {\n",
       "        vertical-align: middle;\n",
       "    }\n",
       "\n",
       "    .dataframe tbody tr th {\n",
       "        vertical-align: top;\n",
       "    }\n",
       "\n",
       "    .dataframe thead th {\n",
       "        text-align: right;\n",
       "    }\n",
       "</style>\n",
       "<table border=\"1\" class=\"dataframe\">\n",
       "  <thead>\n",
       "    <tr style=\"text-align: right;\">\n",
       "      <th></th>\n",
       "      <th>movieId</th>\n",
       "      <th>imdbId</th>\n",
       "      <th>tmdbId</th>\n",
       "      <th>new_imdbId</th>\n",
       "    </tr>\n",
       "  </thead>\n",
       "  <tbody>\n",
       "    <tr>\n",
       "      <th>0</th>\n",
       "      <td>1</td>\n",
       "      <td>114709</td>\n",
       "      <td>862.0</td>\n",
       "      <td>tt0114709</td>\n",
       "    </tr>\n",
       "    <tr>\n",
       "      <th>1</th>\n",
       "      <td>2</td>\n",
       "      <td>113497</td>\n",
       "      <td>8844.0</td>\n",
       "      <td>tt0113497</td>\n",
       "    </tr>\n",
       "    <tr>\n",
       "      <th>2</th>\n",
       "      <td>3</td>\n",
       "      <td>113228</td>\n",
       "      <td>15602.0</td>\n",
       "      <td>tt0113228</td>\n",
       "    </tr>\n",
       "    <tr>\n",
       "      <th>3</th>\n",
       "      <td>4</td>\n",
       "      <td>114885</td>\n",
       "      <td>31357.0</td>\n",
       "      <td>tt0114885</td>\n",
       "    </tr>\n",
       "    <tr>\n",
       "      <th>4</th>\n",
       "      <td>5</td>\n",
       "      <td>113041</td>\n",
       "      <td>11862.0</td>\n",
       "      <td>tt0113041</td>\n",
       "    </tr>\n",
       "    <tr>\n",
       "      <th>5</th>\n",
       "      <td>6</td>\n",
       "      <td>113277</td>\n",
       "      <td>949.0</td>\n",
       "      <td>tt0113277</td>\n",
       "    </tr>\n",
       "    <tr>\n",
       "      <th>6</th>\n",
       "      <td>7</td>\n",
       "      <td>114319</td>\n",
       "      <td>11860.0</td>\n",
       "      <td>tt0114319</td>\n",
       "    </tr>\n",
       "    <tr>\n",
       "      <th>7</th>\n",
       "      <td>8</td>\n",
       "      <td>112302</td>\n",
       "      <td>45325.0</td>\n",
       "      <td>tt0112302</td>\n",
       "    </tr>\n",
       "    <tr>\n",
       "      <th>8</th>\n",
       "      <td>9</td>\n",
       "      <td>114576</td>\n",
       "      <td>9091.0</td>\n",
       "      <td>tt0114576</td>\n",
       "    </tr>\n",
       "    <tr>\n",
       "      <th>9</th>\n",
       "      <td>10</td>\n",
       "      <td>113189</td>\n",
       "      <td>710.0</td>\n",
       "      <td>tt0113189</td>\n",
       "    </tr>\n",
       "  </tbody>\n",
       "</table>\n",
       "</div>"
      ]
     },
     "execution_count": 186,
     "metadata": {},
     "output_type": "execute_result"
    }
   ],
   "execution_count": 186
  },
  {
   "metadata": {},
   "cell_type": "markdown",
   "source": "## Like and Dislike Column",
   "id": "b66aba70ba59b85e"
  },
  {
   "metadata": {
    "ExecuteTime": {
     "end_time": "2025-05-04T07:00:19.893842Z",
     "start_time": "2025-05-04T07:00:18.951191Z"
    }
   },
   "cell_type": "code",
   "source": "ratings['rating'].describe()",
   "id": "d6a30deb1608ec68",
   "outputs": [
    {
     "data": {
      "text/plain": [
       "count    2.602429e+07\n",
       "mean     3.528090e+00\n",
       "std      1.065443e+00\n",
       "min      5.000000e-01\n",
       "25%      3.000000e+00\n",
       "50%      3.500000e+00\n",
       "75%      4.000000e+00\n",
       "max      5.000000e+00\n",
       "Name: rating, dtype: float64"
      ]
     },
     "execution_count": 187,
     "metadata": {},
     "output_type": "execute_result"
    }
   ],
   "execution_count": 187
  },
  {
   "metadata": {
    "ExecuteTime": {
     "end_time": "2025-05-04T22:37:30.737927Z",
     "start_time": "2025-05-04T22:37:23.830453Z"
    }
   },
   "cell_type": "code",
   "source": [
    "# 1 -> Like\n",
    "# 0 -> Nan\n",
    "# -1 -> Dislike\n",
    "threshold = 4\n",
    "\n",
    "ratings['liked'] = ratings['rating'].apply(lambda x: 5 if x >= threshold else 1)\n",
    "ratings['liked'].fillna(0, inplace=True)\n",
    "ratings.head(10)"
   ],
   "id": "90b49003b0ae49d4",
   "outputs": [
    {
     "name": "stderr",
     "output_type": "stream",
     "text": [
      "C:\\Users\\小缇\\AppData\\Local\\Temp\\ipykernel_10860\\4292346027.py:7: FutureWarning: A value is trying to be set on a copy of a DataFrame or Series through chained assignment using an inplace method.\n",
      "The behavior will change in pandas 3.0. This inplace method will never work because the intermediate object on which we are setting values always behaves as a copy.\n",
      "\n",
      "For example, when doing 'df[col].method(value, inplace=True)', try using 'df.method({col: value}, inplace=True)' or df[col] = df[col].method(value) instead, to perform the operation inplace on the original object.\n",
      "\n",
      "\n",
      "  ratings['liked'].fillna(0, inplace=True)\n"
     ]
    },
    {
     "data": {
      "text/plain": [
       "   userId  movieId  rating   timestamp  liked\n",
       "0       1      110     1.0  1425941529      1\n",
       "1       1      147     4.5  1425942435      5\n",
       "2       1      858     5.0  1425941523      5\n",
       "3       1     1221     5.0  1425941546      5\n",
       "4       1     1246     5.0  1425941556      5\n",
       "5       1     1968     4.0  1425942148      5\n",
       "6       1     2762     4.5  1425941300      5\n",
       "7       1     2918     5.0  1425941593      5\n",
       "8       1     2959     4.0  1425941601      5\n",
       "9       1     4226     4.0  1425942228      5"
      ],
      "text/html": [
       "<div>\n",
       "<style scoped>\n",
       "    .dataframe tbody tr th:only-of-type {\n",
       "        vertical-align: middle;\n",
       "    }\n",
       "\n",
       "    .dataframe tbody tr th {\n",
       "        vertical-align: top;\n",
       "    }\n",
       "\n",
       "    .dataframe thead th {\n",
       "        text-align: right;\n",
       "    }\n",
       "</style>\n",
       "<table border=\"1\" class=\"dataframe\">\n",
       "  <thead>\n",
       "    <tr style=\"text-align: right;\">\n",
       "      <th></th>\n",
       "      <th>userId</th>\n",
       "      <th>movieId</th>\n",
       "      <th>rating</th>\n",
       "      <th>timestamp</th>\n",
       "      <th>liked</th>\n",
       "    </tr>\n",
       "  </thead>\n",
       "  <tbody>\n",
       "    <tr>\n",
       "      <th>0</th>\n",
       "      <td>1</td>\n",
       "      <td>110</td>\n",
       "      <td>1.0</td>\n",
       "      <td>1425941529</td>\n",
       "      <td>1</td>\n",
       "    </tr>\n",
       "    <tr>\n",
       "      <th>1</th>\n",
       "      <td>1</td>\n",
       "      <td>147</td>\n",
       "      <td>4.5</td>\n",
       "      <td>1425942435</td>\n",
       "      <td>5</td>\n",
       "    </tr>\n",
       "    <tr>\n",
       "      <th>2</th>\n",
       "      <td>1</td>\n",
       "      <td>858</td>\n",
       "      <td>5.0</td>\n",
       "      <td>1425941523</td>\n",
       "      <td>5</td>\n",
       "    </tr>\n",
       "    <tr>\n",
       "      <th>3</th>\n",
       "      <td>1</td>\n",
       "      <td>1221</td>\n",
       "      <td>5.0</td>\n",
       "      <td>1425941546</td>\n",
       "      <td>5</td>\n",
       "    </tr>\n",
       "    <tr>\n",
       "      <th>4</th>\n",
       "      <td>1</td>\n",
       "      <td>1246</td>\n",
       "      <td>5.0</td>\n",
       "      <td>1425941556</td>\n",
       "      <td>5</td>\n",
       "    </tr>\n",
       "    <tr>\n",
       "      <th>5</th>\n",
       "      <td>1</td>\n",
       "      <td>1968</td>\n",
       "      <td>4.0</td>\n",
       "      <td>1425942148</td>\n",
       "      <td>5</td>\n",
       "    </tr>\n",
       "    <tr>\n",
       "      <th>6</th>\n",
       "      <td>1</td>\n",
       "      <td>2762</td>\n",
       "      <td>4.5</td>\n",
       "      <td>1425941300</td>\n",
       "      <td>5</td>\n",
       "    </tr>\n",
       "    <tr>\n",
       "      <th>7</th>\n",
       "      <td>1</td>\n",
       "      <td>2918</td>\n",
       "      <td>5.0</td>\n",
       "      <td>1425941593</td>\n",
       "      <td>5</td>\n",
       "    </tr>\n",
       "    <tr>\n",
       "      <th>8</th>\n",
       "      <td>1</td>\n",
       "      <td>2959</td>\n",
       "      <td>4.0</td>\n",
       "      <td>1425941601</td>\n",
       "      <td>5</td>\n",
       "    </tr>\n",
       "    <tr>\n",
       "      <th>9</th>\n",
       "      <td>1</td>\n",
       "      <td>4226</td>\n",
       "      <td>4.0</td>\n",
       "      <td>1425942228</td>\n",
       "      <td>5</td>\n",
       "    </tr>\n",
       "  </tbody>\n",
       "</table>\n",
       "</div>"
      ]
     },
     "execution_count": 88,
     "metadata": {},
     "output_type": "execute_result"
    }
   ],
   "execution_count": 88
  },
  {
   "metadata": {},
   "cell_type": "markdown",
   "source": "## User-Item Matrix",
   "id": "c7235ff09ad1ed8f"
  },
  {
   "metadata": {
    "ExecuteTime": {
     "end_time": "2025-05-04T07:00:33.583545Z",
     "start_time": "2025-05-04T07:00:33.300847Z"
    }
   },
   "cell_type": "code",
   "source": [
    "print(\"Unique users:\", ratings['userId'].nunique())\n",
    "print(\"Unique movies:\", ratings['movieId'].nunique())\n"
   ],
   "id": "46870506c337bbb8",
   "outputs": [
    {
     "name": "stdout",
     "output_type": "stream",
     "text": [
      "Unique users: 270896\n",
      "Unique movies: 45115\n"
     ]
    }
   ],
   "execution_count": 189
  },
  {
   "metadata": {
    "ExecuteTime": {
     "end_time": "2025-05-04T22:37:42.023590Z",
     "start_time": "2025-05-04T22:37:41.400480Z"
    }
   },
   "cell_type": "code",
   "source": [
    "# Only first 1000 users and 1000 movies\n",
    "filtered = ratings[\n",
    "    (ratings['userId'].isin(ratings['userId'].unique()[:10000])) &\n",
    "    (ratings['movieId'].isin(ratings['movieId'].unique()[:10000]))\n",
    "]"
   ],
   "id": "36ce37509e5616d",
   "outputs": [],
   "execution_count": 89
  },
  {
   "metadata": {
    "ExecuteTime": {
     "end_time": "2025-05-04T22:37:44.610733Z",
     "start_time": "2025-05-04T22:37:42.302085Z"
    }
   },
   "cell_type": "code",
   "source": "user_item_matrix = filtered.pivot_table(index='userId', columns='movieId', values='liked', fill_value=0)",
   "id": "fd29cc8eb00f2e1d",
   "outputs": [],
   "execution_count": 90
  },
  {
   "metadata": {
    "ExecuteTime": {
     "end_time": "2025-05-05T01:57:04.582174Z",
     "start_time": "2025-05-05T01:57:02.285884Z"
    }
   },
   "cell_type": "code",
   "source": "new_user_item_matrix = filtered.pivot_table(index = 'userId', columns = 'movieId', values = 'rating', fill_value=0)",
   "id": "34e7697ae2399826",
   "outputs": [],
   "execution_count": 191
  },
  {
   "metadata": {},
   "cell_type": "markdown",
   "source": "## Split Dataset for Future Evaluation",
   "id": "c1f19c25f7378d02"
  },
  {
   "metadata": {
    "ExecuteTime": {
     "end_time": "2025-05-05T02:37:18.744829Z",
     "start_time": "2025-05-05T02:37:18.655513Z"
    }
   },
   "cell_type": "code",
   "source": [
    "# Split Dataset\n",
    "from sklearn.model_selection import train_test_split\n",
    "\n",
    "# Split into train/test\n",
    "train_data, test_data = train_test_split(filtered, test_size=0.3, random_state = 1)"
   ],
   "id": "e071e0be8bd0225b",
   "outputs": [],
   "execution_count": 250
  },
  {
   "metadata": {
    "ExecuteTime": {
     "end_time": "2025-05-05T02:40:12.825233Z",
     "start_time": "2025-05-05T02:40:10.291565Z"
    }
   },
   "cell_type": "code",
   "source": "train_matrix = train_data.pivot_table(index='userId', columns='movieId', values='liked').fillna(0)",
   "id": "13a1fd32f2fd5363",
   "outputs": [],
   "execution_count": 263
  },
  {
   "metadata": {
    "ExecuteTime": {
     "end_time": "2025-05-05T02:41:14.680001Z",
     "start_time": "2025-05-05T02:41:12.147967Z"
    }
   },
   "cell_type": "code",
   "source": "new_train_matrix = train_data.pivot_table(index='userId', columns='movieId', values='rating').fillna(0)",
   "id": "bcb2b334708067d6",
   "outputs": [],
   "execution_count": 270
  },
  {
   "metadata": {
    "ExecuteTime": {
     "end_time": "2025-05-05T02:37:24.205699Z",
     "start_time": "2025-05-05T02:37:24.196824Z"
    }
   },
   "cell_type": "code",
   "source": [
    "id = 1\n",
    "print(train_data[train_data['userId']==id])\n",
    "print(test_data[test_data['userId']==id])"
   ],
   "id": "4d66c2cee860a0a6",
   "outputs": [
    {
     "name": "stdout",
     "output_type": "stream",
     "text": [
      "    userId  movieId  rating   timestamp  liked\n",
      "15       1    59315     5.0  1425941502      5\n",
      "16       1    68358     5.0  1425941464      5\n",
      "2        1      858     5.0  1425941523      5\n",
      "21       1    91542     5.0  1425942618      5\n",
      "26       1   112552     5.0  1425941336      5\n",
      "4        1     1246     5.0  1425941556      5\n",
      "11       1     5577     5.0  1425941397      5\n",
      "7        1     2918     5.0  1425941593      5\n",
      "1        1      147     4.5  1425942435      5\n",
      "6        1     2762     4.5  1425941300      5\n",
      "19       1    81834     5.0  1425942133      5\n",
      "22       1    92439     5.0  1425941424      5\n",
      "25       1    99114     4.0  1425941667      5\n",
      "12       1    33794     4.0  1425942005      5\n",
      "5        1     1968     4.0  1425942148      5\n",
      "    userId  movieId  rating   timestamp  liked\n",
      "8        1     2959     4.0  1425941601      5\n",
      "0        1      110     1.0  1425941529      1\n",
      "3        1     1221     5.0  1425941546      5\n",
      "10       1     4878     5.0  1425941434      5\n",
      "9        1     4226     4.0  1425942228      5\n",
      "24       1    98809     0.5  1425942640      1\n",
      "13       1    54503     3.5  1425941313      1\n",
      "23       1    96821     5.0  1425941382      5\n",
      "17       1    69844     5.0  1425942139      5\n",
      "14       1    58559     4.0  1425942007      5\n",
      "20       1    91500     2.5  1425942647      1\n",
      "18       1    73017     5.0  1425942699      5\n"
     ]
    }
   ],
   "execution_count": 252
  },
  {
   "metadata": {},
   "cell_type": "markdown",
   "source": "## User Based Collaborative Filtering",
   "id": "7b4f2b8c96845f71"
  },
  {
   "metadata": {
    "ExecuteTime": {
     "end_time": "2025-05-04T22:37:47.203696Z",
     "start_time": "2025-05-04T22:37:47.198886Z"
    }
   },
   "cell_type": "code",
   "source": "from sklearn.metrics.pairwise import cosine_similarity",
   "id": "551673d3222e6cd6",
   "outputs": [],
   "execution_count": 93
  },
  {
   "metadata": {
    "ExecuteTime": {
     "end_time": "2025-05-05T02:40:23.149881Z",
     "start_time": "2025-05-05T02:40:17.894569Z"
    }
   },
   "cell_type": "code",
   "source": [
    "user_similarity = cosine_similarity(user_item_matrix)\n",
    "user_similarity_df = pd.DataFrame(user_similarity, index=user_item_matrix.index, columns=user_item_matrix.index)"
   ],
   "id": "15f0d7d31c1bb9db",
   "outputs": [],
   "execution_count": 265
  },
  {
   "metadata": {
    "ExecuteTime": {
     "end_time": "2025-05-05T02:56:38.414662Z",
     "start_time": "2025-05-05T02:56:38.407704Z"
    }
   },
   "cell_type": "code",
   "source": [
    "def user_based_recommendation(user_id, top_k, train_matrix, user_similarity_df):\n",
    "    # Generate recommendations\n",
    "    similar_users = user_similarity_df[user_id].sort_values(ascending=False)[1:]\n",
    "    top_users = [user for user in similar_users.head(10).index if user in train_matrix.index]\n",
    "\n",
    "    liked_by_similar = train_matrix.loc[top_users].mul(similar_users, axis = 'rows').sum(axis=0)\n",
    "    already_seen = train_matrix.loc[user_id]\n",
    "    unseen_mask = already_seen[already_seen == 0]\n",
    "    recommend_scores = liked_by_similar[unseen_mask.index]\n",
    "    recommended = recommend_scores.sort_values(ascending=False).head(top_k).index\n",
    "\n",
    "    return recommended.tolist()"
   ],
   "id": "c6b294e9f4386bf4",
   "outputs": [],
   "execution_count": 286
  },
  {
   "metadata": {
    "ExecuteTime": {
     "end_time": "2025-05-05T02:56:41.981654Z",
     "start_time": "2025-05-05T02:56:40.630838Z"
    }
   },
   "cell_type": "code",
   "source": [
    "user_recommended_movies = user_based_recommendation(user_id=1, top_k=10, train_matrix=train_matrix, user_similarity_df=user_similarity_df)\n",
    "print(user_recommended_movies)"
   ],
   "id": "6b865430378c4ac2",
   "outputs": [
    {
     "name": "stdout",
     "output_type": "stream",
     "text": [
      "[2959, 58559, 91529, 2571, 318, 79132, 1196, 356, 1221, 6539]\n"
     ]
    }
   ],
   "execution_count": 287
  },
  {
   "metadata": {},
   "cell_type": "code",
   "outputs": [],
   "execution_count": null,
   "source": "",
   "id": "8b1d607ff060815a"
  },
  {
   "metadata": {
    "ExecuteTime": {
     "end_time": "2025-05-05T02:39:10.394494Z",
     "start_time": "2025-05-05T02:39:10.387450Z"
    }
   },
   "cell_type": "code",
   "source": "actual(1)",
   "id": "7352c045cfe0b6e1",
   "outputs": [
    {
     "data": {
      "text/plain": [
       "array([ 2959,  1221,  4878,  4226, 96821, 69844, 58559, 73017],\n",
       "      dtype=int64)"
      ]
     },
     "execution_count": 260,
     "metadata": {},
     "output_type": "execute_result"
    }
   ],
   "execution_count": 260
  },
  {
   "metadata": {
    "ExecuteTime": {
     "end_time": "2025-05-05T02:54:30.250298Z",
     "start_time": "2025-05-05T02:54:30.241278Z"
    }
   },
   "cell_type": "code",
   "source": "test_data[test_data['userId'] == 1].sort_values('rating', ascending = False)",
   "id": "8ec80919ab4cb29c",
   "outputs": [
    {
     "data": {
      "text/plain": [
       "    userId  movieId  rating   timestamp  liked\n",
       "3        1     1221     5.0  1425941546      5\n",
       "10       1     4878     5.0  1425941434      5\n",
       "23       1    96821     5.0  1425941382      5\n",
       "17       1    69844     5.0  1425942139      5\n",
       "18       1    73017     5.0  1425942699      5\n",
       "8        1     2959     4.0  1425941601      5\n",
       "9        1     4226     4.0  1425942228      5\n",
       "14       1    58559     4.0  1425942007      5\n",
       "13       1    54503     3.5  1425941313      1\n",
       "20       1    91500     2.5  1425942647      1\n",
       "0        1      110     1.0  1425941529      1\n",
       "24       1    98809     0.5  1425942640      1"
      ],
      "text/html": [
       "<div>\n",
       "<style scoped>\n",
       "    .dataframe tbody tr th:only-of-type {\n",
       "        vertical-align: middle;\n",
       "    }\n",
       "\n",
       "    .dataframe tbody tr th {\n",
       "        vertical-align: top;\n",
       "    }\n",
       "\n",
       "    .dataframe thead th {\n",
       "        text-align: right;\n",
       "    }\n",
       "</style>\n",
       "<table border=\"1\" class=\"dataframe\">\n",
       "  <thead>\n",
       "    <tr style=\"text-align: right;\">\n",
       "      <th></th>\n",
       "      <th>userId</th>\n",
       "      <th>movieId</th>\n",
       "      <th>rating</th>\n",
       "      <th>timestamp</th>\n",
       "      <th>liked</th>\n",
       "    </tr>\n",
       "  </thead>\n",
       "  <tbody>\n",
       "    <tr>\n",
       "      <th>3</th>\n",
       "      <td>1</td>\n",
       "      <td>1221</td>\n",
       "      <td>5.0</td>\n",
       "      <td>1425941546</td>\n",
       "      <td>5</td>\n",
       "    </tr>\n",
       "    <tr>\n",
       "      <th>10</th>\n",
       "      <td>1</td>\n",
       "      <td>4878</td>\n",
       "      <td>5.0</td>\n",
       "      <td>1425941434</td>\n",
       "      <td>5</td>\n",
       "    </tr>\n",
       "    <tr>\n",
       "      <th>23</th>\n",
       "      <td>1</td>\n",
       "      <td>96821</td>\n",
       "      <td>5.0</td>\n",
       "      <td>1425941382</td>\n",
       "      <td>5</td>\n",
       "    </tr>\n",
       "    <tr>\n",
       "      <th>17</th>\n",
       "      <td>1</td>\n",
       "      <td>69844</td>\n",
       "      <td>5.0</td>\n",
       "      <td>1425942139</td>\n",
       "      <td>5</td>\n",
       "    </tr>\n",
       "    <tr>\n",
       "      <th>18</th>\n",
       "      <td>1</td>\n",
       "      <td>73017</td>\n",
       "      <td>5.0</td>\n",
       "      <td>1425942699</td>\n",
       "      <td>5</td>\n",
       "    </tr>\n",
       "    <tr>\n",
       "      <th>8</th>\n",
       "      <td>1</td>\n",
       "      <td>2959</td>\n",
       "      <td>4.0</td>\n",
       "      <td>1425941601</td>\n",
       "      <td>5</td>\n",
       "    </tr>\n",
       "    <tr>\n",
       "      <th>9</th>\n",
       "      <td>1</td>\n",
       "      <td>4226</td>\n",
       "      <td>4.0</td>\n",
       "      <td>1425942228</td>\n",
       "      <td>5</td>\n",
       "    </tr>\n",
       "    <tr>\n",
       "      <th>14</th>\n",
       "      <td>1</td>\n",
       "      <td>58559</td>\n",
       "      <td>4.0</td>\n",
       "      <td>1425942007</td>\n",
       "      <td>5</td>\n",
       "    </tr>\n",
       "    <tr>\n",
       "      <th>13</th>\n",
       "      <td>1</td>\n",
       "      <td>54503</td>\n",
       "      <td>3.5</td>\n",
       "      <td>1425941313</td>\n",
       "      <td>1</td>\n",
       "    </tr>\n",
       "    <tr>\n",
       "      <th>20</th>\n",
       "      <td>1</td>\n",
       "      <td>91500</td>\n",
       "      <td>2.5</td>\n",
       "      <td>1425942647</td>\n",
       "      <td>1</td>\n",
       "    </tr>\n",
       "    <tr>\n",
       "      <th>0</th>\n",
       "      <td>1</td>\n",
       "      <td>110</td>\n",
       "      <td>1.0</td>\n",
       "      <td>1425941529</td>\n",
       "      <td>1</td>\n",
       "    </tr>\n",
       "    <tr>\n",
       "      <th>24</th>\n",
       "      <td>1</td>\n",
       "      <td>98809</td>\n",
       "      <td>0.5</td>\n",
       "      <td>1425942640</td>\n",
       "      <td>1</td>\n",
       "    </tr>\n",
       "  </tbody>\n",
       "</table>\n",
       "</div>"
      ]
     },
     "execution_count": 281,
     "metadata": {},
     "output_type": "execute_result"
    }
   ],
   "execution_count": 281
  },
  {
   "metadata": {
    "ExecuteTime": {
     "end_time": "2025-05-05T02:41:26.445154Z",
     "start_time": "2025-05-05T02:41:21.489193Z"
    }
   },
   "cell_type": "code",
   "source": [
    "new_user_similarity = cosine_similarity(new_user_item_matrix)\n",
    "new_user_similarity_df = pd.DataFrame(new_user_similarity, index=new_user_item_matrix.index, columns=new_user_item_matrix.index)"
   ],
   "id": "5d5ae68e8ea9fba3",
   "outputs": [],
   "execution_count": 272
  },
  {
   "metadata": {
    "ExecuteTime": {
     "end_time": "2025-05-05T02:41:27.942327Z",
     "start_time": "2025-05-05T02:41:26.450571Z"
    }
   },
   "cell_type": "code",
   "source": [
    "new_user_recommended_movies = user_based_recommendation(user_id=1, top_k=10, train_matrix=new_train_matrix, user_similarity_df=new_user_similarity_df)\n",
    "print(new_user_recommended_movies)"
   ],
   "id": "7fe593f5414f80a8",
   "outputs": [
    {
     "name": "stdout",
     "output_type": "stream",
     "text": [
      "[58559, 2571, 2959, 1221, 356, 60069, 110, 79132, 91529, 296]\n"
     ]
    }
   ],
   "execution_count": 273
  },
  {
   "metadata": {
    "ExecuteTime": {
     "end_time": "2025-05-05T02:50:50.281016Z",
     "start_time": "2025-05-05T02:50:50.274279Z"
    }
   },
   "cell_type": "code",
   "source": "sum(el in user_recommended_movies for el in actual(1))",
   "id": "b9cf9f93fabcb1a1",
   "outputs": [
    {
     "name": "stdout",
     "output_type": "stream",
     "text": [
      "<generator object <genexpr> at 0x00000149ABA76A80>\n"
     ]
    }
   ],
   "execution_count": 278
  },
  {
   "metadata": {
    "ExecuteTime": {
     "end_time": "2025-05-05T02:42:17.736423Z",
     "start_time": "2025-05-05T02:42:17.728929Z"
    }
   },
   "cell_type": "code",
   "source": "sum(el in new_user_recommended_movies for el in actual(1))",
   "id": "2a0ccc48b85d1bff",
   "outputs": [
    {
     "data": {
      "text/plain": [
       "3"
      ]
     },
     "execution_count": 274,
     "metadata": {},
     "output_type": "execute_result"
    }
   ],
   "execution_count": 274
  },
  {
   "metadata": {
    "ExecuteTime": {
     "end_time": "2025-05-05T02:42:48.244489Z",
     "start_time": "2025-05-05T02:42:48.239415Z"
    }
   },
   "cell_type": "code",
   "source": "sum(el in new_user_recommended_movies for el in user_recommended_movies)",
   "id": "f4303677894d60c1",
   "outputs": [
    {
     "data": {
      "text/plain": [
       "7"
      ]
     },
     "execution_count": 276,
     "metadata": {},
     "output_type": "execute_result"
    }
   ],
   "execution_count": 276
  },
  {
   "metadata": {},
   "cell_type": "markdown",
   "source": "## Item Based Collaborative Filtering",
   "id": "2ad5bd6372b59891"
  },
  {
   "metadata": {
    "ExecuteTime": {
     "end_time": "2025-05-04T22:39:36.140343Z",
     "start_time": "2025-05-04T22:39:31.979923Z"
    }
   },
   "cell_type": "code",
   "source": [
    "# Transpose: now rows are movies, columns are users\n",
    "item_user_matrix = train_matrix.T\n",
    "\n",
    "# Compute cosine similarity between movies\n",
    "item_similarity = cosine_similarity(item_user_matrix)\n",
    "item_similarity_df = pd.DataFrame(item_similarity, index=item_user_matrix.index, columns=item_user_matrix.index)"
   ],
   "id": "a2bfd18613242f11",
   "outputs": [],
   "execution_count": 112
  },
  {
   "metadata": {
    "ExecuteTime": {
     "end_time": "2025-05-05T01:53:54.871036Z",
     "start_time": "2025-05-05T01:53:54.865840Z"
    }
   },
   "cell_type": "code",
   "source": [
    "def item_based_recommendation(user_id, train_matrix, item_similarity_df, top_k=10):\n",
    "    user_ratings = train_matrix.loc[user_id]\n",
    "    liked_movies = user_ratings[user_ratings == 5].index  # movies the user liked\n",
    "\n",
    "    scores = pd.Series(dtype=float)\n",
    "\n",
    "    for movie in liked_movies:\n",
    "        similar_movies = item_similarity_df[movie]\n",
    "        scores = scores.add(similar_movies, fill_value=0)\n",
    "    \n",
    "    print(liked_movies.shape)\n",
    "    print(scores.shape)\n",
    "\n",
    "    # Remove movies already seen\n",
    "    scores = scores.drop(index=liked_movies)\n",
    "\n",
    "    # Recommend top K\n",
    "    return scores.sort_values(ascending=False).head(top_k).index.tolist()"
   ],
   "id": "783959ede3e684e6",
   "outputs": [],
   "execution_count": 189
  },
  {
   "metadata": {
    "ExecuteTime": {
     "end_time": "2025-05-05T01:53:56.788232Z",
     "start_time": "2025-05-05T01:53:56.779090Z"
    }
   },
   "cell_type": "code",
   "source": [
    "item_recommended_movies = item_based_recommendation(user_id=1, train_matrix=train_matrix, item_similarity_df=item_similarity_df)\n",
    "print(item_recommended_movies)"
   ],
   "id": "bcd0a01fba26f30e",
   "outputs": [
    {
     "name": "stdout",
     "output_type": "stream",
     "text": [
      "(7,)\n",
      "(8994,)\n",
      "[4993, 4226, 858, 1196, 2571, 33794, 7153, 318, 1198, 1270]\n"
     ]
    }
   ],
   "execution_count": 190
  },
  {
   "metadata": {},
   "cell_type": "markdown",
   "source": "## Hybird: Combine User-Based and Item-Based",
   "id": "d52f19f0fb0f51ad"
  },
  {
   "metadata": {
    "ExecuteTime": {
     "end_time": "2025-05-05T00:25:12.207536Z",
     "start_time": "2025-05-05T00:25:12.202106Z"
    }
   },
   "cell_type": "code",
   "source": [
    "def hybrid_recommendation(user_id, top_k, train_matrix, user_similarity_df, item_similarity_df, alpha=0.5):\n",
    "    # --- USER-BASED SCORE ---\n",
    "    similar_users = user_similarity_df[user_id].sort_values(ascending=False)[1:]\n",
    "    top_users = [user for user in similar_users.head(10).index if user in train_matrix.index]\n",
    "    liked_by_similar = train_matrix.loc[top_users].mul(similar_users, axis = 'rows').sum(axis=0)\n",
    "    already_seen = train_matrix.loc[user_id]\n",
    "    unseen_mask = already_seen[already_seen == 0]\n",
    "    user_score = liked_by_similar[unseen_mask.index]\n",
    "\n",
    "    # --- ITEM-BASED SCORE ---\n",
    "    user_ratings = train_matrix.loc[user_id]\n",
    "    liked_movies = user_ratings[user_ratings == 5].index\n",
    "\n",
    "    item_score = pd.Series(dtype=float)\n",
    "    for movie in liked_movies:\n",
    "        similar_movies = item_similarity_df[movie]\n",
    "        item_score = item_score.add(similar_movies, fill_value=0)\n",
    "\n",
    "    item_score = item_score[unseen_mask.index]  # restrict to unseen\n",
    "\n",
    "    # --- NORMALIZE BOTH ---\n",
    "    if user_score.max() != 0:\n",
    "        user_score = user_score / user_score.max()\n",
    "    if item_score.max() != 0:\n",
    "        item_score = item_score / item_score.max()\n",
    "\n",
    "    # --- COMBINE ---\n",
    "    combined_score = alpha * user_score + (1 - alpha) * item_score\n",
    "    recommendations = combined_score.sort_values(ascending=False).head(top_k)\n",
    "\n",
    "    return recommendations.index.tolist()\n"
   ],
   "id": "60a3ee92c7c6579e",
   "outputs": [],
   "execution_count": 173
  },
  {
   "metadata": {
    "ExecuteTime": {
     "end_time": "2025-05-05T00:24:24.534108Z",
     "start_time": "2025-05-05T00:24:23.172548Z"
    }
   },
   "cell_type": "code",
   "source": [
    "hybrid_movies = hybrid_recommendation(\n",
    "    user_id=1,\n",
    "    top_k=10,\n",
    "    train_matrix=train_matrix,\n",
    "    user_similarity_df=user_similarity_df,\n",
    "    item_similarity_df=item_similarity_df,\n",
    "    alpha=0.5  # weight more on user-based, change as needed\n",
    ")\n",
    "\n",
    "print(hybrid_movies)\n"
   ],
   "id": "bbb8b553745f353e",
   "outputs": [
    {
     "name": "stdout",
     "output_type": "stream",
     "text": [
      "movieId\n",
      "1         0.319914\n",
      "2         0.000000\n",
      "3         0.000000\n",
      "4         0.000000\n",
      "5         0.000000\n",
      "            ...   \n",
      "174055    0.000000\n",
      "174231    0.000000\n",
      "174585    0.000000\n",
      "174843    0.000000\n",
      "176271    0.000000\n",
      "Length: 8986, dtype: float64 movieId\n",
      "1         0.636391\n",
      "2         0.517993\n",
      "3         0.118519\n",
      "4         0.045613\n",
      "5         0.071926\n",
      "            ...   \n",
      "174055    0.000000\n",
      "174231    0.021274\n",
      "174585    0.129802\n",
      "174843    0.066720\n",
      "176271    0.000000\n",
      "Length: 8986, dtype: float64\n",
      "movieId\n",
      "58559     0.930693\n",
      "858       0.825452\n",
      "2571      0.822250\n",
      "1196      0.815972\n",
      "2762      0.800477\n",
      "2858      0.776654\n",
      "68157     0.766272\n",
      "260       0.759293\n",
      "6539      0.747203\n",
      "112852    0.682713\n",
      "dtype: float64\n",
      "[58559, 858, 2571, 1196, 2762, 2858, 68157, 260, 6539, 112852]\n"
     ]
    }
   ],
   "execution_count": 172
  },
  {
   "metadata": {},
   "cell_type": "markdown",
   "source": "## Actual Likes",
   "id": "849d45d1de0d8f9"
  },
  {
   "metadata": {
    "ExecuteTime": {
     "end_time": "2025-05-05T02:34:40.942214Z",
     "start_time": "2025-05-05T02:34:40.937359Z"
    }
   },
   "cell_type": "code",
   "source": [
    "def actual(user_id):\n",
    "    actual_likes = test_data[(test_data['userId'] == user_id) & (test_data['liked'] == 5)]['movieId'].values\n",
    "    \n",
    "    return actual_likes"
   ],
   "id": "2df06630b9391936",
   "outputs": [],
   "execution_count": 242
  },
  {
   "metadata": {},
   "cell_type": "markdown",
   "source": "## Map Back to Movie Titles",
   "id": "4b312b84de7655f5"
  },
  {
   "metadata": {
    "ExecuteTime": {
     "end_time": "2025-05-04T22:38:04.924757Z",
     "start_time": "2025-05-04T22:38:04.919467Z"
    }
   },
   "cell_type": "code",
   "source": [
    "# Function used to map back to movie titles\n",
    "def get_movie_title(recommended_movie_ids):\n",
    "    imdb = link_updated[link_updated['movieId'].isin(recommended_movie_ids)]['new_imdbId'].tolist()\n",
    "\n",
    "    return movies[movies['imdb_id'].isin(imdb)][['imdb_id', 'title']]\n"
   ],
   "id": "962cb22ed2e8122c",
   "outputs": [],
   "execution_count": 103
  },
  {
   "metadata": {},
   "cell_type": "markdown",
   "source": "## Final Result",
   "id": "ec961307d70225d6"
  },
  {
   "metadata": {
    "ExecuteTime": {
     "end_time": "2025-05-04T22:39:54.153768Z",
     "start_time": "2025-05-04T22:39:54.143408Z"
    }
   },
   "cell_type": "code",
   "source": "get_movie_title(user_recommended_movies)",
   "id": "fac16f36396d498f",
   "outputs": [
    {
     "data": {
      "text/plain": [
       "         imdb_id                                              title\n",
       "256    tt0076759                                          Star Wars\n",
       "834    tt0068646                                      The Godfather\n",
       "1154   tt0080684                            The Empire Strikes Back\n",
       "2458   tt0133093                                         The Matrix\n",
       "2647   tt0167404                                    The Sixth Sense\n",
       "2742   tt0169547                                    American Beauty\n",
       "6390   tt0325980  Pirates of the Caribbean: The Curse of the Bla...\n",
       "12481  tt0468569                                    The Dark Knight\n",
       "13605  tt0361748                               Inglourious Basterds\n",
       "23753  tt2015381                            Guardians of the Galaxy"
      ],
      "text/html": [
       "<div>\n",
       "<style scoped>\n",
       "    .dataframe tbody tr th:only-of-type {\n",
       "        vertical-align: middle;\n",
       "    }\n",
       "\n",
       "    .dataframe tbody tr th {\n",
       "        vertical-align: top;\n",
       "    }\n",
       "\n",
       "    .dataframe thead th {\n",
       "        text-align: right;\n",
       "    }\n",
       "</style>\n",
       "<table border=\"1\" class=\"dataframe\">\n",
       "  <thead>\n",
       "    <tr style=\"text-align: right;\">\n",
       "      <th></th>\n",
       "      <th>imdb_id</th>\n",
       "      <th>title</th>\n",
       "    </tr>\n",
       "  </thead>\n",
       "  <tbody>\n",
       "    <tr>\n",
       "      <th>256</th>\n",
       "      <td>tt0076759</td>\n",
       "      <td>Star Wars</td>\n",
       "    </tr>\n",
       "    <tr>\n",
       "      <th>834</th>\n",
       "      <td>tt0068646</td>\n",
       "      <td>The Godfather</td>\n",
       "    </tr>\n",
       "    <tr>\n",
       "      <th>1154</th>\n",
       "      <td>tt0080684</td>\n",
       "      <td>The Empire Strikes Back</td>\n",
       "    </tr>\n",
       "    <tr>\n",
       "      <th>2458</th>\n",
       "      <td>tt0133093</td>\n",
       "      <td>The Matrix</td>\n",
       "    </tr>\n",
       "    <tr>\n",
       "      <th>2647</th>\n",
       "      <td>tt0167404</td>\n",
       "      <td>The Sixth Sense</td>\n",
       "    </tr>\n",
       "    <tr>\n",
       "      <th>2742</th>\n",
       "      <td>tt0169547</td>\n",
       "      <td>American Beauty</td>\n",
       "    </tr>\n",
       "    <tr>\n",
       "      <th>6390</th>\n",
       "      <td>tt0325980</td>\n",
       "      <td>Pirates of the Caribbean: The Curse of the Bla...</td>\n",
       "    </tr>\n",
       "    <tr>\n",
       "      <th>12481</th>\n",
       "      <td>tt0468569</td>\n",
       "      <td>The Dark Knight</td>\n",
       "    </tr>\n",
       "    <tr>\n",
       "      <th>13605</th>\n",
       "      <td>tt0361748</td>\n",
       "      <td>Inglourious Basterds</td>\n",
       "    </tr>\n",
       "    <tr>\n",
       "      <th>23753</th>\n",
       "      <td>tt2015381</td>\n",
       "      <td>Guardians of the Galaxy</td>\n",
       "    </tr>\n",
       "  </tbody>\n",
       "</table>\n",
       "</div>"
      ]
     },
     "execution_count": 117,
     "metadata": {},
     "output_type": "execute_result"
    }
   ],
   "execution_count": 117
  },
  {
   "metadata": {
    "ExecuteTime": {
     "end_time": "2025-05-04T22:39:55.310316Z",
     "start_time": "2025-05-04T22:39:55.299346Z"
    }
   },
   "cell_type": "code",
   "source": "get_movie_title(item_recommended_movies)",
   "id": "b68378fe29f1b7f2",
   "outputs": [
    {
     "data": {
      "text/plain": [
       "         imdb_id                                              title\n",
       "314    tt0111161                           The Shawshank Redemption\n",
       "834    tt0068646                                      The Godfather\n",
       "1154   tt0080684                            The Empire Strikes Back\n",
       "1156   tt0082971                            Raiders of the Lost Ark\n",
       "1225   tt0088763                                 Back to the Future\n",
       "2458   tt0133093                                         The Matrix\n",
       "4099   tt0209144                                            Memento\n",
       "4863   tt0120737  The Lord of the Rings: The Fellowship of the Ring\n",
       "7000   tt0167260      The Lord of the Rings: The Return of the King\n",
       "10122  tt0372784                                      Batman Begins"
      ],
      "text/html": [
       "<div>\n",
       "<style scoped>\n",
       "    .dataframe tbody tr th:only-of-type {\n",
       "        vertical-align: middle;\n",
       "    }\n",
       "\n",
       "    .dataframe tbody tr th {\n",
       "        vertical-align: top;\n",
       "    }\n",
       "\n",
       "    .dataframe thead th {\n",
       "        text-align: right;\n",
       "    }\n",
       "</style>\n",
       "<table border=\"1\" class=\"dataframe\">\n",
       "  <thead>\n",
       "    <tr style=\"text-align: right;\">\n",
       "      <th></th>\n",
       "      <th>imdb_id</th>\n",
       "      <th>title</th>\n",
       "    </tr>\n",
       "  </thead>\n",
       "  <tbody>\n",
       "    <tr>\n",
       "      <th>314</th>\n",
       "      <td>tt0111161</td>\n",
       "      <td>The Shawshank Redemption</td>\n",
       "    </tr>\n",
       "    <tr>\n",
       "      <th>834</th>\n",
       "      <td>tt0068646</td>\n",
       "      <td>The Godfather</td>\n",
       "    </tr>\n",
       "    <tr>\n",
       "      <th>1154</th>\n",
       "      <td>tt0080684</td>\n",
       "      <td>The Empire Strikes Back</td>\n",
       "    </tr>\n",
       "    <tr>\n",
       "      <th>1156</th>\n",
       "      <td>tt0082971</td>\n",
       "      <td>Raiders of the Lost Ark</td>\n",
       "    </tr>\n",
       "    <tr>\n",
       "      <th>1225</th>\n",
       "      <td>tt0088763</td>\n",
       "      <td>Back to the Future</td>\n",
       "    </tr>\n",
       "    <tr>\n",
       "      <th>2458</th>\n",
       "      <td>tt0133093</td>\n",
       "      <td>The Matrix</td>\n",
       "    </tr>\n",
       "    <tr>\n",
       "      <th>4099</th>\n",
       "      <td>tt0209144</td>\n",
       "      <td>Memento</td>\n",
       "    </tr>\n",
       "    <tr>\n",
       "      <th>4863</th>\n",
       "      <td>tt0120737</td>\n",
       "      <td>The Lord of the Rings: The Fellowship of the Ring</td>\n",
       "    </tr>\n",
       "    <tr>\n",
       "      <th>7000</th>\n",
       "      <td>tt0167260</td>\n",
       "      <td>The Lord of the Rings: The Return of the King</td>\n",
       "    </tr>\n",
       "    <tr>\n",
       "      <th>10122</th>\n",
       "      <td>tt0372784</td>\n",
       "      <td>Batman Begins</td>\n",
       "    </tr>\n",
       "  </tbody>\n",
       "</table>\n",
       "</div>"
      ]
     },
     "execution_count": 118,
     "metadata": {},
     "output_type": "execute_result"
    }
   ],
   "execution_count": 118
  },
  {
   "metadata": {
    "ExecuteTime": {
     "end_time": "2025-05-04T22:39:56.921226Z",
     "start_time": "2025-05-04T22:39:56.911636Z"
    }
   },
   "cell_type": "code",
   "source": "get_movie_title(hybrid_movies)",
   "id": "a93e0de75a73746",
   "outputs": [
    {
     "data": {
      "text/plain": [
       "         imdb_id                                              title\n",
       "256    tt0076759                                          Star Wars\n",
       "834    tt0068646                                      The Godfather\n",
       "1154   tt0080684                            The Empire Strikes Back\n",
       "2458   tt0133093                                         The Matrix\n",
       "2647   tt0167404                                    The Sixth Sense\n",
       "2742   tt0169547                                    American Beauty\n",
       "4099   tt0209144                                            Memento\n",
       "6390   tt0325980  Pirates of the Caribbean: The Curse of the Bla...\n",
       "12481  tt0468569                                    The Dark Knight\n",
       "13605  tt0361748                               Inglourious Basterds"
      ],
      "text/html": [
       "<div>\n",
       "<style scoped>\n",
       "    .dataframe tbody tr th:only-of-type {\n",
       "        vertical-align: middle;\n",
       "    }\n",
       "\n",
       "    .dataframe tbody tr th {\n",
       "        vertical-align: top;\n",
       "    }\n",
       "\n",
       "    .dataframe thead th {\n",
       "        text-align: right;\n",
       "    }\n",
       "</style>\n",
       "<table border=\"1\" class=\"dataframe\">\n",
       "  <thead>\n",
       "    <tr style=\"text-align: right;\">\n",
       "      <th></th>\n",
       "      <th>imdb_id</th>\n",
       "      <th>title</th>\n",
       "    </tr>\n",
       "  </thead>\n",
       "  <tbody>\n",
       "    <tr>\n",
       "      <th>256</th>\n",
       "      <td>tt0076759</td>\n",
       "      <td>Star Wars</td>\n",
       "    </tr>\n",
       "    <tr>\n",
       "      <th>834</th>\n",
       "      <td>tt0068646</td>\n",
       "      <td>The Godfather</td>\n",
       "    </tr>\n",
       "    <tr>\n",
       "      <th>1154</th>\n",
       "      <td>tt0080684</td>\n",
       "      <td>The Empire Strikes Back</td>\n",
       "    </tr>\n",
       "    <tr>\n",
       "      <th>2458</th>\n",
       "      <td>tt0133093</td>\n",
       "      <td>The Matrix</td>\n",
       "    </tr>\n",
       "    <tr>\n",
       "      <th>2647</th>\n",
       "      <td>tt0167404</td>\n",
       "      <td>The Sixth Sense</td>\n",
       "    </tr>\n",
       "    <tr>\n",
       "      <th>2742</th>\n",
       "      <td>tt0169547</td>\n",
       "      <td>American Beauty</td>\n",
       "    </tr>\n",
       "    <tr>\n",
       "      <th>4099</th>\n",
       "      <td>tt0209144</td>\n",
       "      <td>Memento</td>\n",
       "    </tr>\n",
       "    <tr>\n",
       "      <th>6390</th>\n",
       "      <td>tt0325980</td>\n",
       "      <td>Pirates of the Caribbean: The Curse of the Bla...</td>\n",
       "    </tr>\n",
       "    <tr>\n",
       "      <th>12481</th>\n",
       "      <td>tt0468569</td>\n",
       "      <td>The Dark Knight</td>\n",
       "    </tr>\n",
       "    <tr>\n",
       "      <th>13605</th>\n",
       "      <td>tt0361748</td>\n",
       "      <td>Inglourious Basterds</td>\n",
       "    </tr>\n",
       "  </tbody>\n",
       "</table>\n",
       "</div>"
      ]
     },
     "execution_count": 119,
     "metadata": {},
     "output_type": "execute_result"
    }
   ],
   "execution_count": 119
  },
  {
   "metadata": {
    "ExecuteTime": {
     "end_time": "2025-05-05T02:35:03.177337Z",
     "start_time": "2025-05-05T02:35:03.159226Z"
    }
   },
   "cell_type": "code",
   "source": "get_movie_title(actual(1))",
   "id": "3a1c48680c7e59ff",
   "outputs": [
    {
     "data": {
      "text/plain": [
       "         imdb_id             title\n",
       "20051  tt1853728  Django Unchained"
      ],
      "text/html": [
       "<div>\n",
       "<style scoped>\n",
       "    .dataframe tbody tr th:only-of-type {\n",
       "        vertical-align: middle;\n",
       "    }\n",
       "\n",
       "    .dataframe tbody tr th {\n",
       "        vertical-align: top;\n",
       "    }\n",
       "\n",
       "    .dataframe thead th {\n",
       "        text-align: right;\n",
       "    }\n",
       "</style>\n",
       "<table border=\"1\" class=\"dataframe\">\n",
       "  <thead>\n",
       "    <tr style=\"text-align: right;\">\n",
       "      <th></th>\n",
       "      <th>imdb_id</th>\n",
       "      <th>title</th>\n",
       "    </tr>\n",
       "  </thead>\n",
       "  <tbody>\n",
       "    <tr>\n",
       "      <th>20051</th>\n",
       "      <td>tt1853728</td>\n",
       "      <td>Django Unchained</td>\n",
       "    </tr>\n",
       "  </tbody>\n",
       "</table>\n",
       "</div>"
      ]
     },
     "execution_count": 245,
     "metadata": {},
     "output_type": "execute_result"
    }
   ],
   "execution_count": 245
  },
  {
   "metadata": {
    "ExecuteTime": {
     "end_time": "2025-05-04T22:46:12.863132Z",
     "start_time": "2025-05-04T22:46:12.854971Z"
    }
   },
   "cell_type": "code",
   "source": [
    "print(user_recommended_movies)\n",
    "print(item_recommended_movies)\n",
    "print(hybrid_movies)\n",
    "print(actual(1))"
   ],
   "id": "d6faf99c0ddf48c2",
   "outputs": [
    {
     "name": "stdout",
     "output_type": "stream",
     "text": [
      "[58559, 68157, 2571, 858, 2762, 1196, 112852, 6539, 260, 2858]\n",
      "[4993, 4226, 858, 1196, 2571, 33794, 7153, 318, 1198, 1270]\n",
      "[58559, 858, 2571, 1196, 2762, 2858, 260, 6539, 68157, 4226]\n",
      "[ 73017  58559   2918  33794  69844   4878   2762   4226    858   5577\n",
      " 112552   1246  68358  81834  92439  96821]\n"
     ]
    }
   ],
   "execution_count": 128
  },
  {
   "metadata": {
    "ExecuteTime": {
     "end_time": "2025-05-05T02:40:51.558670Z",
     "start_time": "2025-05-05T02:40:51.551626Z"
    }
   },
   "cell_type": "code",
   "source": "actual(1).shape",
   "id": "19d8b3cedb31d80b",
   "outputs": [
    {
     "data": {
      "text/plain": [
       "(8,)"
      ]
     },
     "execution_count": 268,
     "metadata": {},
     "output_type": "execute_result"
    }
   ],
   "execution_count": 268
  },
  {
   "metadata": {
    "ExecuteTime": {
     "end_time": "2025-05-05T02:40:36.391771Z",
     "start_time": "2025-05-05T02:40:36.382730Z"
    }
   },
   "cell_type": "code",
   "source": [
    "print(sum(el in user_recommended_movies for el in actual(1)))\n",
    "print(sum(el in item_recommended_movies for el in actual(1)))\n",
    "print(sum(el in hybrid_movies for el in actual(1)))"
   ],
   "id": "a5b4139ef34550a1",
   "outputs": [
    {
     "name": "stdout",
     "output_type": "stream",
     "text": [
      "3\n",
      "1\n",
      "1\n"
     ]
    }
   ],
   "execution_count": 267
  },
  {
   "metadata": {
    "ExecuteTime": {
     "end_time": "2025-05-05T02:38:18.756801Z",
     "start_time": "2025-05-05T02:38:18.751389Z"
    }
   },
   "cell_type": "code",
   "source": [
    "def check(id):\n",
    "    user = []\n",
    "    item = []\n",
    "    hybrid = []\n",
    "    for el in actual(id):\n",
    "        if el in user_recommended_movies:\n",
    "            user.append(el)\n",
    "        if el in item_recommended_movies:\n",
    "            item.append(el)\n",
    "        if el in hybrid_movies:\n",
    "            hybrid.append(el)\n",
    "    print('user base: ' + get_movie_title(user))\n",
    "    print('item base: ' + get_movie_title(item))\n",
    "    print('hybird base: ' + get_movie_title(hybrid))\n",
    "    return 0"
   ],
   "id": "248f1435e5f7c8d4",
   "outputs": [],
   "execution_count": 258
  },
  {
   "metadata": {
    "ExecuteTime": {
     "end_time": "2025-05-05T02:38:22.133189Z",
     "start_time": "2025-05-05T02:38:22.116279Z"
    }
   },
   "cell_type": "code",
   "source": "check(1)",
   "id": "1b6f7b6145c826ab",
   "outputs": [
    {
     "name": "stdout",
     "output_type": "stream",
     "text": [
      "Empty DataFrame\n",
      "Columns: [imdb_id, title]\n",
      "Index: []\n",
      "                   imdb_id               title\n",
      "4099  item base: tt0209144  item base: Memento\n",
      "                      imdb_id                         title\n",
      "12481  hybird base: tt0468569  hybird base: The Dark Knight\n"
     ]
    },
    {
     "data": {
      "text/plain": [
       "0"
      ]
     },
     "execution_count": 259,
     "metadata": {},
     "output_type": "execute_result"
    }
   ],
   "execution_count": 259
  },
  {
   "metadata": {
    "ExecuteTime": {
     "end_time": "2025-05-05T02:01:20.674288Z",
     "start_time": "2025-05-05T02:01:20.666068Z"
    }
   },
   "cell_type": "code",
   "source": [
    "def accuracy(train_matrix, test_matrix, top_k, user_similarity_df, item_similarity_df, alpha):\n",
    "    user = \n",
    "    "
   ],
   "id": "355f6f71eb326cd7",
   "outputs": [
    {
     "name": "stdout",
     "output_type": "stream",
     "text": [
      "2\n"
     ]
    }
   ],
   "execution_count": 195
  }
 ],
 "metadata": {
  "kernelspec": {
   "display_name": "Python 3",
   "language": "python",
   "name": "python3"
  },
  "language_info": {
   "codemirror_mode": {
    "name": "ipython",
    "version": 2
   },
   "file_extension": ".py",
   "mimetype": "text/x-python",
   "name": "python",
   "nbconvert_exporter": "python",
   "pygments_lexer": "ipython2",
   "version": "2.7.6"
  }
 },
 "nbformat": 4,
 "nbformat_minor": 5
}
